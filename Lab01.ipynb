{
 "cells": [
  {
   "cell_type": "code",
   "execution_count": 1,
   "id": "6f6be5cb",
   "metadata": {},
   "outputs": [],
   "source": [
    "from data import Data"
   ]
  },
  {
   "cell_type": "code",
   "execution_count": 6,
   "id": "6241d243",
   "metadata": {},
   "outputs": [],
   "source": [
    "newData = Data('data/iris.csv')"
   ]
  },
  {
   "cell_type": "code",
   "execution_count": 7,
   "id": "8067096d",
   "metadata": {},
   "outputs": [
    {
     "name": "stdout",
     "output_type": "stream",
     "text": [
      "data/iris.csv (150x4) \n",
      "Headers: \n",
      "sepal_length    sepal_width    petal_length    petal_width    \n",
      "-------------------------------\n",
      "5.1     3.5     1.4     0.2     \n",
      "4.9     3.0     1.4     0.2     \n",
      "4.7     3.2     1.3     0.2     \n",
      "4.6     3.1     1.5     0.2     \n",
      "5.0     3.6     1.4     0.2     \n",
      "\n"
     ]
    }
   ],
   "source": [
    "print (newData)"
   ]
  },
  {
   "cell_type": "code",
   "execution_count": null,
   "id": "d5388a94",
   "metadata": {},
   "outputs": [],
   "source": []
  }
 ],
 "metadata": {
  "kernelspec": {
   "display_name": "Python 3 (ipykernel)",
   "language": "python",
   "name": "python3"
  },
  "language_info": {
   "codemirror_mode": {
    "name": "ipython",
    "version": 3
   },
   "file_extension": ".py",
   "mimetype": "text/x-python",
   "name": "python",
   "nbconvert_exporter": "python",
   "pygments_lexer": "ipython3",
   "version": "3.10.9"
  }
 },
 "nbformat": 4,
 "nbformat_minor": 5
}
